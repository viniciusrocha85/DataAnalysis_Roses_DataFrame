{
  "nbformat": 4,
  "nbformat_minor": 0,
  "metadata": {
    "colab": {
      "provenance": [],
      "collapsed_sections": [
        "FjmJWgDIj3WE"
      ],
      "mount_file_id": "1gLOZwABaRdFJMDReqLdsnb7tFg_8uQ8S",
      "authorship_tag": "ABX9TyMYPvspZG/Xu/D2w2x8vx57",
      "include_colab_link": true
    },
    "kernelspec": {
      "name": "python3",
      "display_name": "Python 3"
    },
    "language_info": {
      "name": "python"
    }
  },
  "cells": [
    {
      "cell_type": "markdown",
      "metadata": {
        "id": "view-in-github",
        "colab_type": "text"
      },
      "source": [
        "<a href=\"https://colab.research.google.com/github/viniciusrocha85/DataAnalysis_Roses_DataFrame/blob/main/Relatorio_Saude_e_Educacao.ipynb\" target=\"_parent\"><img src=\"https://colab.research.google.com/assets/colab-badge.svg\" alt=\"Open In Colab\"/></a>"
      ]
    },
    {
      "cell_type": "markdown",
      "source": [
        "# Import das bibliotecas"
      ],
      "metadata": {
        "id": "FjmJWgDIj3WE"
      }
    },
    {
      "cell_type": "code",
      "execution_count": 29,
      "metadata": {
        "id": "tgZ7frQ_SNhS"
      },
      "outputs": [],
      "source": [
        "import pandas as pd"
      ]
    },
    {
      "cell_type": "markdown",
      "source": [
        "# Codigo de Tratamento de Dados - Dengue//Alunos"
      ],
      "metadata": {
        "id": "ajNBM-Klj7qP"
      }
    },
    {
      "cell_type": "code",
      "source": [
        "#Import do Arquivo da base de dados de Dengue\n",
        "path_dengue = '/content/drive/MyDrive/Unifor-Ciencia de Dados/Bases de Dados/Base de Dengue3.csv'"
      ],
      "metadata": {
        "id": "xHRS1M_oingo"
      },
      "execution_count": 30,
      "outputs": []
    },
    {
      "cell_type": "code",
      "source": [
        "#Import do Arquivo da base de dados de Alunos\n",
        "path_alunos = '/content/drive/MyDrive/Unifor-Ciencia de Dados/Bases de Dados/Base de Alunos3.csv'"
      ],
      "metadata": {
        "id": "Hk_onrV9inYC"
      },
      "execution_count": 31,
      "outputs": []
    },
    {
      "cell_type": "code",
      "source": [
        "#Lendo o arquivo \"path_dengue\"\n",
        "df_dengue = pd.read_csv(path_dengue, sep=';')"
      ],
      "metadata": {
        "id": "ccH82-U1T00I"
      },
      "execution_count": 32,
      "outputs": []
    },
    {
      "cell_type": "code",
      "source": [
        "#Lendo o arquivo \"path_alunos\"\n",
        "df_alunos = pd.read_csv(path_alunos, sep=';')"
      ],
      "metadata": {
        "id": "foNXDhCZUSfO"
      },
      "execution_count": 33,
      "outputs": []
    },
    {
      "cell_type": "code",
      "source": [
        "#'len' = tamanho de linhas do dataframe alunos\n",
        "len(df_alunos)"
      ],
      "metadata": {
        "id": "J1lysMf79-lu"
      },
      "execution_count": null,
      "outputs": []
    },
    {
      "cell_type": "code",
      "source": [
        "#'len' tamanho de linhas do dataframe dengue\n",
        "len(df_dengue)"
      ],
      "metadata": {
        "id": "75AAnCls-KDn"
      },
      "execution_count": null,
      "outputs": []
    },
    {
      "cell_type": "code",
      "source": [
        "df_alunos"
      ],
      "metadata": {
        "id": "tTc0_rL2uRQA"
      },
      "execution_count": null,
      "outputs": []
    },
    {
      "cell_type": "code",
      "source": [
        "df_dengue"
      ],
      "metadata": {
        "id": "divtgEuTuULJ"
      },
      "execution_count": null,
      "outputs": []
    },
    {
      "cell_type": "code",
      "source": [
        "#listagem da coluna 'Nomes' do datafame de dengue\n",
        "lista_nomes_alunos = list(df_alunos['Nome'])"
      ],
      "metadata": {
        "id": "JTdOe6pbopT7"
      },
      "execution_count": 38,
      "outputs": []
    },
    {
      "cell_type": "code",
      "source": [
        "#criando um dataframe de alunos com dengue, chamando apenas os nomes dos alunos que tiveram dengue\n",
        "df_alunos_com_dengue = df_dengue[df_dengue['Nome'].isin(lista_nomes_alunos)]"
      ],
      "metadata": {
        "id": "xiTqcjNTo2Sq"
      },
      "execution_count": 39,
      "outputs": []
    },
    {
      "cell_type": "code",
      "source": [
        "df_alunos_com_dengue"
      ],
      "metadata": {
        "id": "6XqUh2hhvG2i"
      },
      "execution_count": null,
      "outputs": []
    },
    {
      "cell_type": "code",
      "source": [
        "#Informação do dataframe de alunos com dengue = como os dados são e quantas linhas nao nulas eles tem\n",
        "df_alunos_com_dengue.info()"
      ],
      "metadata": {
        "id": "7qqEIvaKrlqS"
      },
      "execution_count": null,
      "outputs": []
    },
    {
      "cell_type": "code",
      "source": [
        "# #Export do novo dataframe tratado (alunos com dengue)\n",
        "# df_alunos_com_dengue.to_excel('Alunos com Dengue3.xlsx')"
      ],
      "metadata": {
        "id": "kJcFBhNQ-T-V"
      },
      "execution_count": 42,
      "outputs": []
    },
    {
      "cell_type": "markdown",
      "source": [
        "# Grafico de Venn"
      ],
      "metadata": {
        "id": "Ocr9PiiVIRJN"
      }
    },
    {
      "cell_type": "code",
      "source": [
        "#listagem da coluna 'Nomes' do datafame de alunos\n",
        "lista_nomes_alunos = list(df_alunos['Nome'])"
      ],
      "metadata": {
        "id": "YPCSBlYCKBpU"
      },
      "execution_count": 43,
      "outputs": []
    },
    {
      "cell_type": "code",
      "source": [
        "#listagem da coluna 'Nomes' do datafame de dengue\n",
        "lista_nomes_dengue = list(df_dengue['Nome'])"
      ],
      "metadata": {
        "id": "_HizAV7AKDun"
      },
      "execution_count": 44,
      "outputs": []
    },
    {
      "cell_type": "code",
      "source": [
        "#Importando uma biblioteca grafica (Matplotlib)\n",
        "from matplotlib import pyplot as plt\n",
        "from matplotlib_venn import venn2, venn3"
      ],
      "metadata": {
        "id": "kQLZibFLIVRe"
      },
      "execution_count": 45,
      "outputs": []
    },
    {
      "cell_type": "code",
      "source": [
        "#Montando a funcão do diagrama de Venn\n",
        "def func_venn(venn, lst, labels):\n",
        "\n",
        "  return venn(lst, set_labels = labels)"
      ],
      "metadata": {
        "id": "_oc_4XvUJEHF"
      },
      "execution_count": 46,
      "outputs": []
    },
    {
      "cell_type": "code",
      "source": [
        "func_venn(venn2, [set(lista_nomes_alunos), set(lista_nomes_dengue)],\n",
        "          (\"Lista de Nomes dos Alunos\", \"Lista de Nomes com Dengue\"))\n",
        "plt.title(\"Diagrama de Venn dos Alunos com Dengue\")\n",
        "plt.show()"
      ],
      "metadata": {
        "colab": {
          "base_uri": "https://localhost:8080/",
          "height": 370
        },
        "id": "ReoC_BPxKXR8",
        "outputId": "ea21ef65-6a01-4719-8401-2c4b0dd8ac5f"
      },
      "execution_count": 48,
      "outputs": [
        {
          "output_type": "display_data",
          "data": {
            "text/plain": [
              "<Figure size 640x480 with 1 Axes>"
            ],
            "image/png": "[encoded data removed]"
          },
          "metadata": {}
        }
      ]
    }
  ]
}